{
 "cells": [
  {
   "cell_type": "code",
   "execution_count": null,
   "id": "3b984cba-adf6-4e99-b716-712d827bda4c",
   "metadata": {},
   "outputs": [],
   "source": [
    "# 1- Faça um programa que mostre a mensagem \"Alo mundo\" na tela:"
   ]
  },
  {
   "cell_type": "code",
   "execution_count": 1,
   "id": "6eb6e495-7bff-45e3-b239-89d2241a716e",
   "metadata": {},
   "outputs": [
    {
     "name": "stdout",
     "output_type": "stream",
     "text": [
      "Alo mundo\n"
     ]
    }
   ],
   "source": [
    "print(\"Alo mundo\")"
   ]
  },
  {
   "cell_type": "code",
   "execution_count": null,
   "id": "ffa0fb25-cb2b-4f92-ae95-dd1f21c6d2c9",
   "metadata": {},
   "outputs": [],
   "source": [
    "# 2 - Faça um programa que peça um número e então mostre a mensagem \"O número informado foi [número]\""
   ]
  },
  {
   "cell_type": "code",
   "execution_count": 4,
   "id": "427e58d7-c41a-4350-99c7-1f6cd54b8b9e",
   "metadata": {},
   "outputs": [
    {
     "name": "stdin",
     "output_type": "stream",
     "text": [
      "Informe um numero:  4\n"
     ]
    },
    {
     "name": "stdout",
     "output_type": "stream",
     "text": [
      "O numero informado foi:  4\n"
     ]
    }
   ],
   "source": [
    "numero = input('Informe um numero: ')\n",
    "print('O numero informado foi: ', numero)"
   ]
  },
  {
   "cell_type": "code",
   "execution_count": null,
   "id": "c460fef5-4a0d-4cae-8307-689a4d93980b",
   "metadata": {},
   "outputs": [],
   "source": [
    "# 3 - Faça um programa que peça dois números e imprima a soma:"
   ]
  },
  {
   "cell_type": "code",
   "execution_count": 2,
   "id": "4568d402-78bf-4445-b782-8d624fdbad92",
   "metadata": {},
   "outputs": [
    {
     "name": "stdin",
     "output_type": "stream",
     "text": [
      "Digite o primeiro numero:  1\n",
      "Digite o segundo numero:  2\n"
     ]
    },
    {
     "name": "stdout",
     "output_type": "stream",
     "text": [
      "A soma dos numeros é: 3\n"
     ]
    }
   ],
   "source": [
    "numero1 = int(input('Digite o primeiro numero: '))\n",
    "numero2 = int(input('Digite o segundo numero: '))\n",
    "soma = numero1 + numero2\n",
    "print('A soma dos numeros é:', soma)"
   ]
  },
  {
   "cell_type": "code",
   "execution_count": null,
   "id": "3193c018-f2bb-4bea-ae37-4768498ceb7c",
   "metadata": {},
   "outputs": [],
   "source": [
    "# 4 - Crie uma classe que modele uma pessoa:\n",
    "# Atributos: nome, idade, peso e altura\n",
    "# Métodos: Envelhercer, engordar, emagrecer, crescer. Obs: Por padrão, a cada ano que nossa pessoa envelhece, sendo a idade dela menor que 21 anos, ela deve crescer 0,5 cm."
   ]
  }
 ],
 "metadata": {
  "kernelspec": {
   "display_name": "Python 3 (ipykernel)",
   "language": "python",
   "name": "python3"
  },
  "language_info": {
   "codemirror_mode": {
    "name": "ipython",
    "version": 3
   },
   "file_extension": ".py",
   "mimetype": "text/x-python",
   "name": "python",
   "nbconvert_exporter": "python",
   "pygments_lexer": "ipython3",
   "version": "3.13.4"
  }
 },
 "nbformat": 4,
 "nbformat_minor": 5
}
