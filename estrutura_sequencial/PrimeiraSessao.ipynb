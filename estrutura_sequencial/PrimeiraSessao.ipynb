{
 "cells": [
  {
   "cell_type": "code",
   "execution_count": null,
   "id": "3b984cba-adf6-4e99-b716-712d827bda4c",
   "metadata": {},
   "outputs": [],
   "source": [
    "# 1- Faça um programa que mostre a mensagem \"Alo mundo\" na tela:"
   ]
  },
  {
   "cell_type": "code",
   "execution_count": 1,
   "id": "6eb6e495-7bff-45e3-b239-89d2241a716e",
   "metadata": {},
   "outputs": [
    {
     "name": "stdout",
     "output_type": "stream",
     "text": [
      "Alo mundo\n"
     ]
    }
   ],
   "source": [
    "print(\"Alo mundo\")"
   ]
  },
  {
   "cell_type": "code",
   "execution_count": null,
   "id": "ffa0fb25-cb2b-4f92-ae95-dd1f21c6d2c9",
   "metadata": {},
   "outputs": [],
   "source": [
    "# 2 - Faça um programa que peça um número e então mostre a mensagem \"O número informado foi [número]\""
   ]
  },
  {
   "cell_type": "code",
   "execution_count": 4,
   "id": "427e58d7-c41a-4350-99c7-1f6cd54b8b9e",
   "metadata": {},
   "outputs": [
    {
     "name": "stdin",
     "output_type": "stream",
     "text": [
      "Informe um numero:  4\n"
     ]
    },
    {
     "name": "stdout",
     "output_type": "stream",
     "text": [
      "O numero informado foi:  4\n"
     ]
    }
   ],
   "source": [
    "numero = input('Informe um numero: ')\n",
    "print('O numero informado foi: ', numero)"
   ]
  },
  {
   "cell_type": "code",
   "execution_count": null,
   "id": "c460fef5-4a0d-4cae-8307-689a4d93980b",
   "metadata": {},
   "outputs": [],
   "source": [
    "# 3 - Faça um programa que peça dois números e imprima a soma:"
   ]
  },
  {
   "cell_type": "code",
   "execution_count": 2,
   "id": "4568d402-78bf-4445-b782-8d624fdbad92",
   "metadata": {},
   "outputs": [
    {
     "name": "stdin",
     "output_type": "stream",
     "text": [
      "Digite o primeiro numero:  1\n",
      "Digite o segundo numero:  2\n"
     ]
    },
    {
     "name": "stdout",
     "output_type": "stream",
     "text": [
      "A soma dos numeros é: 3\n"
     ]
    }
   ],
   "source": [
    "numero1 = int(input('Digite o primeiro numero: '))\n",
    "numero2 = int(input('Digite o segundo numero: '))\n",
    "soma = numero1 + numero2\n",
    "print('A soma dos numeros é:', soma)"
   ]
  },
  {
   "cell_type": "code",
   "execution_count": null,
   "id": "d463e3cf-94f6-4a3b-b0b0-45a9ec9d587e",
   "metadata": {},
   "outputs": [],
   "source": [
    "# 4 - Faça um programa que peça as 4 notas bimestrais e mostre a média."
   ]
  },
  {
   "cell_type": "code",
   "execution_count": 1,
   "id": "b52b8285-765f-476e-a94e-e523f7853c55",
   "metadata": {},
   "outputs": [
    {
     "name": "stdin",
     "output_type": "stream",
     "text": [
      "Digite a nota 1:  1\n",
      "Digite a nota 2:  2\n",
      "Digite a nota 3:  3\n",
      "Digite a nota 4:  4\n"
     ]
    },
    {
     "name": "stdout",
     "output_type": "stream",
     "text": [
      "A media das notas é:  2.5\n"
     ]
    }
   ],
   "source": [
    "nota1 = int(input('Digite a nota 1: '))\n",
    "nota2 = int(input('Digite a nota 2: '))\n",
    "nota3 = int(input('Digite a nota 3: '))\n",
    "nota4 = int(input('Digite a nota 4: '))\n",
    "soma = sum([nota1, nota2, nota3, nota4])\n",
    "media = soma / 4\n",
    "print('A media das notas é: ', media)\n"
   ]
  },
  {
   "cell_type": "code",
   "execution_count": null,
   "id": "3193c018-f2bb-4bea-ae37-4768498ceb7c",
   "metadata": {},
   "outputs": [],
   "source": [
    "# 5 - Faça um programa que converta metros para centímetros:"
   ]
  },
  {
   "cell_type": "code",
   "execution_count": null,
   "id": "75d8e415-38c5-43c4-a16c-a17ae7f01aa3",
   "metadata": {},
   "outputs": [],
   "source": []
  },
  {
   "cell_type": "code",
   "execution_count": null,
   "id": "d405fedb-9ab5-41c1-92d9-01a283d3e80d",
   "metadata": {},
   "outputs": [],
   "source": []
  }
 ],
 "metadata": {
  "kernelspec": {
   "display_name": "Python 3 (ipykernel)",
   "language": "python",
   "name": "python3"
  },
  "language_info": {
   "codemirror_mode": {
    "name": "ipython",
    "version": 3
   },
   "file_extension": ".py",
   "mimetype": "text/x-python",
   "name": "python",
   "nbconvert_exporter": "python",
   "pygments_lexer": "ipython3",
   "version": "3.13.4"
  }
 },
 "nbformat": 4,
 "nbformat_minor": 5
}
