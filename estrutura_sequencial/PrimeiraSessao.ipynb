{
 "cells": [
  {
   "cell_type": "code",
   "execution_count": null,
   "id": "3b984cba-adf6-4e99-b716-712d827bda4c",
   "metadata": {},
   "outputs": [],
   "source": [
    "# 1- Faça um programa que mostre a mensagem \"Alo mundo\" na tela:"
   ]
  },
  {
   "cell_type": "code",
   "execution_count": 1,
   "id": "6eb6e495-7bff-45e3-b239-89d2241a716e",
   "metadata": {},
   "outputs": [
    {
     "name": "stdout",
     "output_type": "stream",
     "text": [
      "Alo mundo\n"
     ]
    }
   ],
   "source": [
    "print(\"Alo mundo\")"
   ]
  },
  {
   "cell_type": "code",
   "execution_count": null,
   "id": "ffa0fb25-cb2b-4f92-ae95-dd1f21c6d2c9",
   "metadata": {},
   "outputs": [],
   "source": [
    "# 2 - Faça um programa que peça um número e então mostre a mensagem \"O número informado foi [número]\""
   ]
  },
  {
   "cell_type": "code",
   "execution_count": 4,
   "id": "427e58d7-c41a-4350-99c7-1f6cd54b8b9e",
   "metadata": {},
   "outputs": [
    {
     "name": "stdin",
     "output_type": "stream",
     "text": [
      "Informe um numero:  4\n"
     ]
    },
    {
     "name": "stdout",
     "output_type": "stream",
     "text": [
      "O numero informado foi:  4\n"
     ]
    }
   ],
   "source": [
    "numero = input('Informe um numero: ')\n",
    "print('O numero informado foi: ', numero)"
   ]
  },
  {
   "cell_type": "code",
   "execution_count": null,
   "id": "c460fef5-4a0d-4cae-8307-689a4d93980b",
   "metadata": {},
   "outputs": [],
   "source": [
    "# 3 - Faça um programa que peça dois números e imprima a soma:"
   ]
  },
  {
   "cell_type": "code",
   "execution_count": 2,
   "id": "4568d402-78bf-4445-b782-8d624fdbad92",
   "metadata": {},
   "outputs": [
    {
     "name": "stdin",
     "output_type": "stream",
     "text": [
      "Digite o primeiro numero:  1\n",
      "Digite o segundo numero:  2\n"
     ]
    },
    {
     "name": "stdout",
     "output_type": "stream",
     "text": [
      "A soma dos numeros é: 3\n"
     ]
    }
   ],
   "source": [
    "numero1 = int(input('Digite o primeiro numero: '))\n",
    "numero2 = int(input('Digite o segundo numero: '))\n",
    "soma = numero1 + numero2\n",
    "print('A soma dos numeros é:', soma)"
   ]
  },
  {
   "cell_type": "code",
   "execution_count": null,
   "id": "d463e3cf-94f6-4a3b-b0b0-45a9ec9d587e",
   "metadata": {},
   "outputs": [],
   "source": [
    "# 4 - Faça um programa que peça as 4 notas bimestrais e mostre a média."
   ]
  },
  {
   "cell_type": "code",
   "execution_count": 1,
   "id": "b52b8285-765f-476e-a94e-e523f7853c55",
   "metadata": {},
   "outputs": [
    {
     "name": "stdin",
     "output_type": "stream",
     "text": [
      "Digite a nota 1:  1\n",
      "Digite a nota 2:  2\n",
      "Digite a nota 3:  3\n",
      "Digite a nota 4:  4\n"
     ]
    },
    {
     "name": "stdout",
     "output_type": "stream",
     "text": [
      "A media das notas é:  2.5\n"
     ]
    }
   ],
   "source": [
    "nota1 = int(input('Digite a nota 1: '))\n",
    "nota2 = int(input('Digite a nota 2: '))\n",
    "nota3 = int(input('Digite a nota 3: '))\n",
    "nota4 = int(input('Digite a nota 4: '))\n",
    "soma = sum([nota1, nota2, nota3, nota4])\n",
    "media = soma / 4\n",
    "print('A media das notas é: ', media)\n"
   ]
  },
  {
   "cell_type": "code",
   "execution_count": null,
   "id": "3193c018-f2bb-4bea-ae37-4768498ceb7c",
   "metadata": {},
   "outputs": [],
   "source": [
    "# 5 - Faça um programa que converta metros para centímetros:"
   ]
  },
  {
   "cell_type": "code",
   "execution_count": 3,
   "id": "75d8e415-38c5-43c4-a16c-a17ae7f01aa3",
   "metadata": {},
   "outputs": [
    {
     "name": "stdin",
     "output_type": "stream",
     "text": [
      "Digite o valor em metros:  5\n"
     ]
    },
    {
     "name": "stdout",
     "output_type": "stream",
     "text": [
      "A conversão para centimetros é de:  500.0\n"
     ]
    }
   ],
   "source": [
    "metros = float(input(\"Digite o valor em metros: \"))\n",
    "cent = metros * 100\n",
    "print('A conversão para centimetros é de: ', cent)"
   ]
  },
  {
   "cell_type": "code",
   "execution_count": null,
   "id": "d405fedb-9ab5-41c1-92d9-01a283d3e80d",
   "metadata": {},
   "outputs": [],
   "source": [
    "# 6 - Faça um programa que peça o raio de um círculo, calcule e mostre sua área:"
   ]
  },
  {
   "cell_type": "code",
   "execution_count": 4,
   "id": "41b79a60-ca85-4735-b490-fb970eddb049",
   "metadata": {},
   "outputs": [
    {
     "name": "stdin",
     "output_type": "stream",
     "text": [
      "Digite o raio do círculo:  2\n"
     ]
    },
    {
     "name": "stdout",
     "output_type": "stream",
     "text": [
      "A area do circulo é:  12.56\n"
     ]
    }
   ],
   "source": [
    "raio = float(input(\"Digite o raio do círculo: \"))\n",
    "area = 3.14 * raio ** 2\n",
    "print('A area do circulo é: ', area)"
   ]
  },
  {
   "cell_type": "code",
   "execution_count": null,
   "id": "3b646d96-c5e9-435b-b4bc-c09642e353b6",
   "metadata": {},
   "outputs": [],
   "source": [
    "# 7 - Faça um programa que calcule a área de um quadrado, em seguida mostre o dobro desta área para o usuário."
   ]
  },
  {
   "cell_type": "code",
   "execution_count": 5,
   "id": "ce7f787c-7aa4-4006-9ab5-7331adec0b79",
   "metadata": {},
   "outputs": [
    {
     "name": "stdin",
     "output_type": "stream",
     "text": [
      "Digite a medida lateral do quadrado:  2\n"
     ]
    },
    {
     "name": "stdout",
     "output_type": "stream",
     "text": [
      "O dobro da área do quadrado é:  8.0\n"
     ]
    }
   ],
   "source": [
    "lado = float(input('Digite a medida lateral do quadrado: '))\n",
    "area = (lado ** 2) * 2\n",
    "print('O dobro da área do quadrado é: ', area)"
   ]
  },
  {
   "cell_type": "code",
   "execution_count": null,
   "id": "0fa511e5-b9ba-4b6f-af5f-57ebf4ba090c",
   "metadata": {},
   "outputs": [],
   "source": [
    "# 8 - Faça um programa que pergunte quanto você ganha por hora e o número de horas trabalhadas no mês. Calcule e mostre o total do seu salário no referido mês."
   ]
  },
  {
   "cell_type": "code",
   "execution_count": 14,
   "id": "05fe0838-5d7f-47f0-8473-0cab05c8093d",
   "metadata": {},
   "outputs": [
    {
     "name": "stdin",
     "output_type": "stream",
     "text": [
      "Qual valor você recebe por hora?  20\n",
      "Quantas horas trabalhadas por mês?  30\n"
     ]
    },
    {
     "name": "stdout",
     "output_type": "stream",
     "text": [
      "O total do seu salario é: R$ 600.00\n"
     ]
    }
   ],
   "source": [
    "valor_hora = float(input('Qual valor você recebe por hora? '))\n",
    "horas_trabalhadas = float(input('Quantas horas trabalhadas por mês? '))\n",
    "salario = valor_hora * horas_trabalhadas\n",
    "print(f'O total do seu salario é: R$ {salario:,.2f}')"
   ]
  },
  {
   "cell_type": "code",
   "execution_count": null,
   "id": "41727409-1a3c-41dc-839d-1f205dbaa05f",
   "metadata": {},
   "outputs": [],
   "source": [
    "# 9 - Faça um programa que peça a temperatura em graus Fahrenheit, transforme e mostre a temperatura em graus Celsius"
   ]
  },
  {
   "cell_type": "code",
   "execution_count": 20,
   "id": "883bcadb-9527-4cec-82ec-60f7174f36f8",
   "metadata": {},
   "outputs": [
    {
     "name": "stdin",
     "output_type": "stream",
     "text": [
      "Digite os graus em Fahrenheit:  80,6\n"
     ]
    },
    {
     "name": "stdout",
     "output_type": "stream",
     "text": [
      "A temperatura em Celcius é: 27.00\n"
     ]
    }
   ],
   "source": [
    "graus_fahrenheit = (input('Digite os graus em Fahrenheit: '))\n",
    "graus_fahrenheit = graus_fahrenheit.replace(',', '.')\n",
    "graus_fahrenheit = float(graus_fahrenheit)\n",
    "celsius = graus_fahrenheit - 32\n",
    "resultado = celsius * (5/9)\n",
    "print(f'A temperatura em Celcius é: {resultado:.2f}')"
   ]
  },
  {
   "cell_type": "code",
   "execution_count": null,
   "id": "28b833fa-c2c4-4997-a9c4-e2ecd733b510",
   "metadata": {},
   "outputs": [],
   "source": [
    "# 10 - Faça um programa que peça a temperatura em graus Celsius, transforme e mostre em graus Fahrenheit."
   ]
  },
  {
   "cell_type": "code",
   "execution_count": 21,
   "id": "94ea1ba0-ff95-43c0-9b92-2e2f909d6f65",
   "metadata": {},
   "outputs": [
    {
     "name": "stdin",
     "output_type": "stream",
     "text": [
      "Digite os graus em Celsius:  27\n"
     ]
    },
    {
     "name": "stdout",
     "output_type": "stream",
     "text": [
      "A temperatura em Fahrenheit é: 106.20\n"
     ]
    }
   ],
   "source": [
    "graus_celsius = (input('Digite os graus em Celsius: '))\n",
    "graus_celsius = graus_celsius.replace(',', '.')\n",
    "graus_celsius = float(graus_celsius)\n",
    "fahrenheit = graus_celsius + 32\n",
    "resultado = fahrenheit * (9/5)\n",
    "print(f'A temperatura em Fahrenheit é: {resultado:.2f}')"
   ]
  }
 ],
 "metadata": {
  "kernelspec": {
   "display_name": "Python 3 (ipykernel)",
   "language": "python",
   "name": "python3"
  },
  "language_info": {
   "codemirror_mode": {
    "name": "ipython",
    "version": 3
   },
   "file_extension": ".py",
   "mimetype": "text/x-python",
   "name": "python",
   "nbconvert_exporter": "python",
   "pygments_lexer": "ipython3",
   "version": "3.13.4"
  }
 },
 "nbformat": 4,
 "nbformat_minor": 5
}
