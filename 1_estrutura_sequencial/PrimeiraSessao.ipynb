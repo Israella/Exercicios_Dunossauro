{
 "cells": [
  {
   "cell_type": "code",
   "execution_count": null,
   "id": "3b984cba-adf6-4e99-b716-712d827bda4c",
   "metadata": {},
   "outputs": [],
   "source": [
    "# 1- Faça um programa que mostre a mensagem \"Alo mundo\" na tela:"
   ]
  },
  {
   "cell_type": "code",
   "execution_count": 1,
   "id": "6eb6e495-7bff-45e3-b239-89d2241a716e",
   "metadata": {},
   "outputs": [
    {
     "name": "stdout",
     "output_type": "stream",
     "text": [
      "Alo mundo\n"
     ]
    }
   ],
   "source": [
    "print(\"Alo mundo\")"
   ]
  },
  {
   "cell_type": "code",
   "execution_count": null,
   "id": "ffa0fb25-cb2b-4f92-ae95-dd1f21c6d2c9",
   "metadata": {},
   "outputs": [],
   "source": [
    "# 2 - Faça um programa que peça um número e então mostre a mensagem \"O número informado foi [número]\""
   ]
  },
  {
   "cell_type": "code",
   "execution_count": 4,
   "id": "427e58d7-c41a-4350-99c7-1f6cd54b8b9e",
   "metadata": {},
   "outputs": [
    {
     "name": "stdin",
     "output_type": "stream",
     "text": [
      "Informe um numero:  4\n"
     ]
    },
    {
     "name": "stdout",
     "output_type": "stream",
     "text": [
      "O numero informado foi:  4\n"
     ]
    }
   ],
   "source": [
    "numero = input('Informe um numero: ')\n",
    "print('O numero informado foi: ', numero)"
   ]
  },
  {
   "cell_type": "code",
   "execution_count": null,
   "id": "c460fef5-4a0d-4cae-8307-689a4d93980b",
   "metadata": {},
   "outputs": [],
   "source": [
    "# 3 - Faça um programa que peça dois números e imprima a soma:"
   ]
  },
  {
   "cell_type": "code",
   "execution_count": 2,
   "id": "4568d402-78bf-4445-b782-8d624fdbad92",
   "metadata": {},
   "outputs": [
    {
     "name": "stdin",
     "output_type": "stream",
     "text": [
      "Digite o primeiro numero:  1\n",
      "Digite o segundo numero:  2\n"
     ]
    },
    {
     "name": "stdout",
     "output_type": "stream",
     "text": [
      "A soma dos numeros é: 3\n"
     ]
    }
   ],
   "source": [
    "numero1 = int(input('Digite o primeiro numero: '))\n",
    "numero2 = int(input('Digite o segundo numero: '))\n",
    "soma = numero1 + numero2\n",
    "print('A soma dos numeros é:', soma)"
   ]
  },
  {
   "cell_type": "code",
   "execution_count": null,
   "id": "d463e3cf-94f6-4a3b-b0b0-45a9ec9d587e",
   "metadata": {},
   "outputs": [],
   "source": [
    "# 4 - Faça um programa que peça as 4 notas bimestrais e mostre a média."
   ]
  },
  {
   "cell_type": "code",
   "execution_count": 1,
   "id": "b52b8285-765f-476e-a94e-e523f7853c55",
   "metadata": {},
   "outputs": [
    {
     "name": "stdin",
     "output_type": "stream",
     "text": [
      "Digite a nota 1:  1\n",
      "Digite a nota 2:  2\n",
      "Digite a nota 3:  3\n",
      "Digite a nota 4:  4\n"
     ]
    },
    {
     "name": "stdout",
     "output_type": "stream",
     "text": [
      "A media das notas é:  2.5\n"
     ]
    }
   ],
   "source": [
    "nota1 = int(input('Digite a nota 1: '))\n",
    "nota2 = int(input('Digite a nota 2: '))\n",
    "nota3 = int(input('Digite a nota 3: '))\n",
    "nota4 = int(input('Digite a nota 4: '))\n",
    "soma = sum([nota1, nota2, nota3, nota4])\n",
    "media = soma / 4\n",
    "print('A media das notas é: ', media)\n"
   ]
  },
  {
   "cell_type": "code",
   "execution_count": null,
   "id": "3193c018-f2bb-4bea-ae37-4768498ceb7c",
   "metadata": {},
   "outputs": [],
   "source": [
    "# 5 - Faça um programa que converta metros para centímetros:"
   ]
  },
  {
   "cell_type": "code",
   "execution_count": 3,
   "id": "75d8e415-38c5-43c4-a16c-a17ae7f01aa3",
   "metadata": {},
   "outputs": [
    {
     "name": "stdin",
     "output_type": "stream",
     "text": [
      "Digite o valor em metros:  5\n"
     ]
    },
    {
     "name": "stdout",
     "output_type": "stream",
     "text": [
      "A conversão para centimetros é de:  500.0\n"
     ]
    }
   ],
   "source": [
    "metros = float(input(\"Digite o valor em metros: \"))\n",
    "cent = metros * 100\n",
    "print('A conversão para centimetros é de: ', cent)"
   ]
  },
  {
   "cell_type": "code",
   "execution_count": null,
   "id": "d405fedb-9ab5-41c1-92d9-01a283d3e80d",
   "metadata": {},
   "outputs": [],
   "source": [
    "# 6 - Faça um programa que peça o raio de um círculo, calcule e mostre sua área:"
   ]
  },
  {
   "cell_type": "code",
   "execution_count": 4,
   "id": "41b79a60-ca85-4735-b490-fb970eddb049",
   "metadata": {},
   "outputs": [
    {
     "name": "stdin",
     "output_type": "stream",
     "text": [
      "Digite o raio do círculo:  2\n"
     ]
    },
    {
     "name": "stdout",
     "output_type": "stream",
     "text": [
      "A area do circulo é:  12.56\n"
     ]
    }
   ],
   "source": [
    "raio = float(input(\"Digite o raio do círculo: \"))\n",
    "area = 3.14 * raio ** 2\n",
    "print('A area do circulo é: ', area)"
   ]
  },
  {
   "cell_type": "code",
   "execution_count": null,
   "id": "3b646d96-c5e9-435b-b4bc-c09642e353b6",
   "metadata": {},
   "outputs": [],
   "source": [
    "# 7 - Faça um programa que calcule a área de um quadrado, em seguida mostre o dobro desta área para o usuário."
   ]
  },
  {
   "cell_type": "code",
   "execution_count": 5,
   "id": "ce7f787c-7aa4-4006-9ab5-7331adec0b79",
   "metadata": {},
   "outputs": [
    {
     "name": "stdin",
     "output_type": "stream",
     "text": [
      "Digite a medida lateral do quadrado:  2\n"
     ]
    },
    {
     "name": "stdout",
     "output_type": "stream",
     "text": [
      "O dobro da área do quadrado é:  8.0\n"
     ]
    }
   ],
   "source": [
    "lado = float(input('Digite a medida lateral do quadrado: '))\n",
    "area = (lado ** 2) * 2\n",
    "print('O dobro da área do quadrado é: ', area)"
   ]
  },
  {
   "cell_type": "code",
   "execution_count": null,
   "id": "0fa511e5-b9ba-4b6f-af5f-57ebf4ba090c",
   "metadata": {},
   "outputs": [],
   "source": [
    "# 8 - Faça um programa que pergunte quanto você ganha por hora e o número de horas trabalhadas no mês. Calcule e mostre o total do seu salário no referido mês."
   ]
  },
  {
   "cell_type": "code",
   "execution_count": 2,
   "id": "05fe0838-5d7f-47f0-8473-0cab05c8093d",
   "metadata": {},
   "outputs": [
    {
     "name": "stdin",
     "output_type": "stream",
     "text": [
      "Qual valor você recebe por hora?  35\n",
      "Quantas horas trabalhadas por mês?  176\n"
     ]
    },
    {
     "name": "stdout",
     "output_type": "stream",
     "text": [
      "O total do seu salario é: R$ 6,160.00\n"
     ]
    }
   ],
   "source": [
    "valor_hora = float(input('Qual valor você recebe por hora? '))\n",
    "horas_trabalhadas = float(input('Quantas horas trabalhadas por mês? '))\n",
    "salario = valor_hora * horas_trabalhadas\n",
    "print(f'O total do seu salario é: R$ {salario:,.2f}')"
   ]
  },
  {
   "cell_type": "code",
   "execution_count": null,
   "id": "41727409-1a3c-41dc-839d-1f205dbaa05f",
   "metadata": {},
   "outputs": [],
   "source": [
    "# 9 - Faça um programa que peça a temperatura em graus Fahrenheit, transforme e mostre a temperatura em graus Celsius"
   ]
  },
  {
   "cell_type": "code",
   "execution_count": 20,
   "id": "883bcadb-9527-4cec-82ec-60f7174f36f8",
   "metadata": {},
   "outputs": [
    {
     "name": "stdin",
     "output_type": "stream",
     "text": [
      "Digite os graus em Fahrenheit:  80,6\n"
     ]
    },
    {
     "name": "stdout",
     "output_type": "stream",
     "text": [
      "A temperatura em Celcius é: 27.00\n"
     ]
    }
   ],
   "source": [
    "graus_fahrenheit = (input('Digite os graus em Fahrenheit: '))\n",
    "graus_fahrenheit = graus_fahrenheit.replace(',', '.')\n",
    "graus_fahrenheit = float(graus_fahrenheit)\n",
    "celsius = graus_fahrenheit - 32\n",
    "resultado = celsius * (5/9)\n",
    "print(f'A temperatura em Celcius é: {resultado:.2f}')"
   ]
  },
  {
   "cell_type": "code",
   "execution_count": null,
   "id": "28b833fa-c2c4-4997-a9c4-e2ecd733b510",
   "metadata": {},
   "outputs": [],
   "source": [
    "# 10 - Faça um programa que peça a temperatura em graus Celsius, transforme e mostre em graus Fahrenheit."
   ]
  },
  {
   "cell_type": "code",
   "execution_count": 22,
   "id": "94ea1ba0-ff95-43c0-9b92-2e2f909d6f65",
   "metadata": {},
   "outputs": [
    {
     "name": "stdin",
     "output_type": "stream",
     "text": [
      "Digite os graus em Celsius:  27\n"
     ]
    },
    {
     "name": "stdout",
     "output_type": "stream",
     "text": [
      "A temperatura em Fahrenheit é: 80.60\n"
     ]
    }
   ],
   "source": [
    "graus_celsius = (input('Digite os graus em Celsius: '))\n",
    "graus_celsius = graus_celsius.replace(',', '.')\n",
    "graus_celsius = float(graus_celsius)\n",
    "resultado = graus_celsius * (9/5) + 32\n",
    "print(f'A temperatura em Fahrenheit é: {resultado:.2f}')"
   ]
  },
  {
   "cell_type": "code",
   "execution_count": null,
   "id": "741a78af-7b17-43ca-9660-a0acfb90a1f5",
   "metadata": {},
   "outputs": [],
   "source": [
    "# 11 - Faça um programa que peça 2 números inteiros e um número real. Calcule e mostre:\n",
    "# O produto do dobro do primeiro com metade do segundo .\n",
    "# A soma do triplo do primeiro com o terceiro.\n",
    "# O terceiro elevado ao cubo."
   ]
  },
  {
   "cell_type": "code",
   "execution_count": 23,
   "id": "8d49a602-1b2a-4d28-8a05-32dcbc3f4810",
   "metadata": {},
   "outputs": [
    {
     "name": "stdin",
     "output_type": "stream",
     "text": [
      "Digite um numero inteiro:  1\n",
      "Digite outro numero inteiro:  2\n",
      "Digite um numero real:  5\n"
     ]
    },
    {
     "name": "stdout",
     "output_type": "stream",
     "text": [
      "Produto: 2.0\n",
      "Soma: 8.0\n",
      "Terceiro ao cubo: 125.0\n"
     ]
    }
   ],
   "source": [
    "num1 = int(input('Digite um numero inteiro: '))\n",
    "num2 = int(input('Digite outro numero inteiro: '))\n",
    "real = float(input('Digite um numero real: '))\n",
    "produto = (num1 * 2) * (num2 / 2)\n",
    "soma = (num1 * 3) + real\n",
    "elevado = real ** 3\n",
    "print(f\"Produto: {produto}\\nSoma: {soma}\\nTerceiro ao cubo: {elevado}\")"
   ]
  },
  {
   "cell_type": "code",
   "execution_count": null,
   "id": "ae32a253-3517-47b3-b426-8628f41f95e7",
   "metadata": {},
   "outputs": [],
   "source": [
    "# 12 - Tendo como dados de entrada um arquivo em Gigabytes, construa um algoritmo que faça a conversão para Megabytes, usando a seguinte fórmula: Gigabytes * 1024"
   ]
  },
  {
   "cell_type": "code",
   "execution_count": 27,
   "id": "5e7d27d7-ccc0-4dab-b733-76fc61fcb002",
   "metadata": {},
   "outputs": [
    {
     "name": "stdin",
     "output_type": "stream",
     "text": [
      "Digite o arquivo em Gigabytes:  500\n"
     ]
    },
    {
     "name": "stdout",
     "output_type": "stream",
     "text": [
      "A conversão para Megabytes é: 512,000\n"
     ]
    }
   ],
   "source": [
    "gigabytes = float(input('Digite o arquivo em Gigabytes: '))\n",
    "conversao = gigabytes * 1024\n",
    "print(f'A conversão para Megabytes é: {conversao:,.0f}')"
   ]
  },
  {
   "cell_type": "code",
   "execution_count": null,
   "id": "4007fe17-e281-4794-87f0-d2ae2bbaef30",
   "metadata": {},
   "outputs": [],
   "source": [
    "# 13 - Tendo como dados de entrada um arquivo em Gigabytes, construa um algoritmo que faça a conversão para Megabytes e Kilobytes, usando as seguintes fórmulas:\n",
    "#Para Megabytes: Gigabytes * 1024\n",
    "#Para Kilobytes: Gigabytes * 1024 * 1024\n",
    "#Responda o tamanho do arquivo em Megabytes e o tamanho em Kilobytes."
   ]
  },
  {
   "cell_type": "code",
   "execution_count": 30,
   "id": "2a906e15-0077-42b8-8978-3adedaea458f",
   "metadata": {},
   "outputs": [
    {
     "name": "stdin",
     "output_type": "stream",
     "text": [
      "Digite o arquivo em Gigabytes:  500\n"
     ]
    },
    {
     "name": "stdout",
     "output_type": "stream",
     "text": [
      "A conversão para Megabytes é: 512000.0 e para Kilobytes é: 524288000.0\n"
     ]
    }
   ],
   "source": [
    "gigabytes = float(input('Digite o arquivo em Gigabytes: '))\n",
    "megabytes = gigabytes * 1024\n",
    "kilobytes = gigabytes * 1024 * 1024\n",
    "print(f'A conversão para Megabytes é: {megabytes} e para Kilobytes é: {kilobytes}')"
   ]
  },
  {
   "cell_type": "code",
   "execution_count": null,
   "id": "8527da54-f5c1-47bb-82df-a9d3e2474de1",
   "metadata": {},
   "outputs": [],
   "source": [
    "# 14 - João, um pescador, comprou um microcomputador para controlar o rendimento diário de seu trabalho. Toda vez que ele traz um peso de peixes maior que o estabelecido pelo regulamento de pesca do estado de São Paulo (50 quilos) deve pagar uma multa de R$ 4,00 por quilo excedente. João precisa que você faça um programa que leia a variável peso (peso de peixes) e calcule o excesso. Gravar na variável excesso a quantidade de quilos além do limite e na variável multa o valor da multa que João deverá pagar. Imprima os dados do programa com as mensagens adequadas."
   ]
  },
  {
   "cell_type": "code",
   "execution_count": 5,
   "id": "2ba6db0f-396f-4400-ba31-fa9bb69d13b6",
   "metadata": {},
   "outputs": [
    {
     "name": "stdin",
     "output_type": "stream",
     "text": [
      "Digite o peso do peixe:  51\n"
     ]
    },
    {
     "name": "stdout",
     "output_type": "stream",
     "text": [
      "Peso informado: 51.00 kg\n",
      "Excesso: 1.00 kg\n",
      "Multa a pagar: R$ 4.00\n"
     ]
    }
   ],
   "source": [
    "peso = float(input('Digite o peso do peixe: '))\n",
    "\n",
    "if peso >50:\n",
    "    excesso = peso - 50\n",
    "else:\n",
    "    excesso = 0\n",
    "    \n",
    "multa = excesso * 4\n",
    "print(f\"Peso informado: {peso:.2f} kg\")\n",
    "print(f\"Excesso: {excesso:.2f} kg\")\n",
    "print(f\"Multa a pagar: R$ {multa:.2f}\")\n"
   ]
  },
  {
   "cell_type": "code",
   "execution_count": null,
   "id": "369f93ec-f33e-408f-b77d-6c769bb5f3bb",
   "metadata": {},
   "outputs": [],
   "source": [
    "# 15 - Faça um programa que pergunte quanto você ganha por hora e o número de horas trabalhadas no mês. Calcule e mostre o total do seu salário no referido mês, sabendo-se que são descontados 11% para o Imposto de Renda, 8% para o INSS e 5% para o sindicato, faça um programa que nos dê:\n",
    "#salário bruto.\n",
    "#quanto pagou ao INSS.\n",
    "#quanto pagou ao sindicato.\n",
    "#o salário líquido.\n",
    "#calcule os descontos e o salário líquido\n",
    "#Obs.: Salário Bruto - Descontos = Salário Líquido."
   ]
  },
  {
   "cell_type": "code",
   "execution_count": 9,
   "id": "3bf4364b-5b91-477a-ba61-4192fe97d104",
   "metadata": {},
   "outputs": [
    {
     "name": "stdin",
     "output_type": "stream",
     "text": [
      "Qual valor você recebe por hora?  35\n",
      "Quantas horas trabalhadas por mês?  170\n"
     ]
    },
    {
     "name": "stdout",
     "output_type": "stream",
     "text": [
      "O salario bruto é: 5950.0, o valor descontado para IR é: 654.5, o valor pago ao INSS foi: 476.0, o valor pago ao sindicato foi: 297.5, e o salario liquido é: 4522.0\n"
     ]
    }
   ],
   "source": [
    "valor_hora = float(input('Qual valor você recebe por hora? '))\n",
    "horas_trabalhadas = float(input('Quantas horas trabalhadas por mês? '))\n",
    "salario_bruto = valor_hora * horas_trabalhadas\n",
    "ir = salario_bruto * 0.11\n",
    "inss = salario_bruto * 0.08\n",
    "sindicato = salario_bruto * 0.05\n",
    "descontos = sum([ir, inss, sindicato])\n",
    "salario_liquido = salario_bruto - descontos\n",
    "print(f'O salario bruto é: {salario_bruto}, o valor descontado para IR é: {ir}, o valor pago ao INSS foi: {inss}, o valor pago ao sindicato foi: {sindicato}, e o salario liquido é: {salario_liquido}')"
   ]
  },
  {
   "cell_type": "code",
   "execution_count": null,
   "id": "735f3a62-60ec-4445-b5a7-d95db29da6e0",
   "metadata": {},
   "outputs": [],
   "source": [
    "# 16 - Faça um programa para uma loja de tintas. O programa deverá pedir o tamanho em metros quadrados da área a ser pintada. Considere que a cobertura da tinta é de 1 litro para cada 3 metros quadrados e que a tinta é vendida em latas de 18 litros, que custam R$ 80,00. Informe ao usuário a quantidades de latas de tinta a serem compradas e o preço total."
   ]
  },
  {
   "cell_type": "code",
   "execution_count": 11,
   "id": "2bdc8e28-6a34-41a1-997c-712a46ca429d",
   "metadata": {},
   "outputs": [
    {
     "name": "stdin",
     "output_type": "stream",
     "text": [
      "Qual o tamanho em metros quadrados da área a ser pintada?  4\n"
     ]
    },
    {
     "name": "stdout",
     "output_type": "stream",
     "text": [
      "A quantidade de latas a comprar é: 0.07407407407407407, e o valor é 5.925925925925926\n"
     ]
    }
   ],
   "source": [
    "tamanho = float(input('Qual o tamanho em metros quadrados da área a ser pintada? '))\n",
    "litros_necessarios = tamanho/3\n",
    "latas_necessarias= litros_necessarios/18\n",
    "preco_total= latas_necessarias * 80\n",
    "print(f'A quantidade de latas a comprar é: {latas_necessarias}, e o valor é {preco_total}')"
   ]
  },
  {
   "cell_type": "code",
   "execution_count": null,
   "id": "932f2ec9-00fd-4fa3-aba0-84ea3ff18f78",
   "metadata": {},
   "outputs": [],
   "source": [
    "# 17 - "
   ]
  },
  {
   "cell_type": "code",
   "execution_count": null,
   "id": "839c3a09-4624-4bb2-bbf2-ca8087d9a43a",
   "metadata": {},
   "outputs": [],
   "source": []
  },
  {
   "cell_type": "code",
   "execution_count": null,
   "id": "eba4144d-2c63-4d90-94f0-172186821e92",
   "metadata": {},
   "outputs": [],
   "source": [
    "# 18 -"
   ]
  }
 ],
 "metadata": {
  "kernelspec": {
   "display_name": "Python 3 (ipykernel)",
   "language": "python",
   "name": "python3"
  },
  "language_info": {
   "codemirror_mode": {
    "name": "ipython",
    "version": 3
   },
   "file_extension": ".py",
   "mimetype": "text/x-python",
   "name": "python",
   "nbconvert_exporter": "python",
   "pygments_lexer": "ipython3",
   "version": "3.13.4"
  }
 },
 "nbformat": 4,
 "nbformat_minor": 5
}
