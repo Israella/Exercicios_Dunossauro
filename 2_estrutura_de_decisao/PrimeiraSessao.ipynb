{
 "cells": [
  {
   "cell_type": "code",
   "execution_count": 8,
   "id": "e25a484b-4b02-47a5-969a-84ecff64c265",
   "metadata": {},
   "outputs": [
    {
     "name": "stdin",
     "output_type": "stream",
     "text": [
      "Digite o primeiro numero:  2\n",
      "Digite o segundo numero:  5\n"
     ]
    },
    {
     "name": "stdout",
     "output_type": "stream",
     "text": [
      "O numero 5 é o maior.\n"
     ]
    }
   ],
   "source": [
    "# 1 - Faça um programa que peça dois números e imprima o maior deles\n",
    "num1 = int(input('Digite o primeiro numero: '))\n",
    "num2 = int(input('Digite o segundo numero: '))\n",
    "if num1 > num2:\n",
    "    print(f'O numero {num1} é o maior.')\n",
    "elif num2 > num1:\n",
    "    print(f'O numero {num2} é o maior.')\n",
    "else:\n",
    "    print(f\"São numeros iguais\")\n"
   ]
  },
  {
   "cell_type": "code",
   "execution_count": null,
   "id": "79398327-c4ab-471c-ab20-296b83ed41ad",
   "metadata": {},
   "outputs": [],
   "source": [
    "# 2 - Faça um programa que peça um valor e mostre na tela se o valor é positivo ou negativo"
   ]
  }
 ],
 "metadata": {
  "kernelspec": {
   "display_name": "Python 3 (ipykernel)",
   "language": "python",
   "name": "python3"
  },
  "language_info": {
   "codemirror_mode": {
    "name": "ipython",
    "version": 3
   },
   "file_extension": ".py",
   "mimetype": "text/x-python",
   "name": "python",
   "nbconvert_exporter": "python",
   "pygments_lexer": "ipython3",
   "version": "3.13.4"
  }
 },
 "nbformat": 4,
 "nbformat_minor": 5
}
