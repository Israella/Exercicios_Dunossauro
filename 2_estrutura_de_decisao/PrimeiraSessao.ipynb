{
 "cells": [
  {
   "cell_type": "code",
   "execution_count": 8,
   "id": "e25a484b-4b02-47a5-969a-84ecff64c265",
   "metadata": {},
   "outputs": [
    {
     "name": "stdin",
     "output_type": "stream",
     "text": [
      "Digite o primeiro numero:  2\n",
      "Digite o segundo numero:  5\n"
     ]
    },
    {
     "name": "stdout",
     "output_type": "stream",
     "text": [
      "O numero 5 é o maior.\n"
     ]
    }
   ],
   "source": [
    "# 1 - Faça um programa que peça dois números e imprima o maior deles\n",
    "num1 = int(input('Digite o primeiro numero: '))\n",
    "num2 = int(input('Digite o segundo numero: '))\n",
    "if num1 > num2:\n",
    "    print(f'O numero {num1} é o maior.')\n",
    "elif num2 > num1:\n",
    "    print(f'O numero {num2} é o maior.')\n",
    "else:\n",
    "    print(f\"São numeros iguais\")\n"
   ]
  },
  {
   "cell_type": "code",
   "execution_count": 2,
   "id": "79398327-c4ab-471c-ab20-296b83ed41ad",
   "metadata": {},
   "outputs": [
    {
     "name": "stdin",
     "output_type": "stream",
     "text": [
      "Digite o numero:  -10\n"
     ]
    },
    {
     "name": "stdout",
     "output_type": "stream",
     "text": [
      "O numero -10.0 é negativo.\n"
     ]
    }
   ],
   "source": [
    "# 2 - Faça um programa que peça um valor e mostre na tela se o valor é positivo ou negativo\n",
    "\n",
    "num = float(input('Digite o numero: '))\n",
    "if num > 0:\n",
    "    print(f'O numero {num} é positivo.')\n",
    "else:\n",
    "    print(f'O numero {num} é negativo.')"
   ]
  },
  {
   "cell_type": "code",
   "execution_count": 6,
   "id": "7fe904df-d99d-4fed-a2a0-af5b76bf0d29",
   "metadata": {},
   "outputs": [
    {
     "name": "stdin",
     "output_type": "stream",
     "text": [
      "Digite F para Feminino ou M para Masculino:  M\n"
     ]
    },
    {
     "name": "stdout",
     "output_type": "stream",
     "text": [
      "Masculino M.\n"
     ]
    }
   ],
   "source": [
    "# 3 - Faça um programa que verifique se uma letra digitada é \"F\" ou \"M\". Conforme a letra escrever:\n",
    "#F - Feminino\n",
    "#M - Masculino\n",
    "# Outro.\n",
    "\n",
    "letra = input(\"Digite F para Feminino ou M para Masculino: \")\n",
    "if letra == \"F\":\n",
    "    print(f'Feminino {letra}.')\n",
    "elif letra == \"M\":\n",
    "    print(f'Masculino {letra}.')\n",
    "else:\n",
    "    print('Outro')\n"
   ]
  },
  {
   "cell_type": "code",
   "execution_count": 7,
   "id": "84e98fae-3191-482d-879b-fb40b04d6e15",
   "metadata": {},
   "outputs": [
    {
     "name": "stdin",
     "output_type": "stream",
     "text": [
      "Digite uma letra:  k\n"
     ]
    },
    {
     "name": "stdout",
     "output_type": "stream",
     "text": [
      "Consoante\n"
     ]
    }
   ],
   "source": [
    "# 4 - Faça um programa que verifique se uma letra digitada é vogal ou consoante.\n",
    "letra = input(\"Digite uma letra: \").lower() \n",
    "\n",
    "if letra in \"aeiou\":  \n",
    "    print(\"Vogal\")\n",
    "else:                  \n",
    "    print(\"Consoante\")"
   ]
  },
  {
   "cell_type": "code",
   "execution_count": null,
   "id": "f2c45f60-e173-4d46-b60a-3636eebd1471",
   "metadata": {},
   "outputs": [],
   "source": [
    "# 5 - "
   ]
  }
 ],
 "metadata": {
  "kernelspec": {
   "display_name": "Python 3 (ipykernel)",
   "language": "python",
   "name": "python3"
  },
  "language_info": {
   "codemirror_mode": {
    "name": "ipython",
    "version": 3
   },
   "file_extension": ".py",
   "mimetype": "text/x-python",
   "name": "python",
   "nbconvert_exporter": "python",
   "pygments_lexer": "ipython3",
   "version": "3.13.4"
  }
 },
 "nbformat": 4,
 "nbformat_minor": 5
}
