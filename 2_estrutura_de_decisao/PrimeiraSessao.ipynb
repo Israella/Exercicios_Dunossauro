{
 "cells": [
  {
   "cell_type": "code",
   "execution_count": 5,
   "id": "e25a484b-4b02-47a5-969a-84ecff64c265",
   "metadata": {},
   "outputs": [
    {
     "ename": "SyntaxError",
     "evalue": "expected ':' (2164140867.py, line 8)",
     "output_type": "error",
     "traceback": [
      "  \u001b[36mCell\u001b[39m\u001b[36m \u001b[39m\u001b[32mIn[5]\u001b[39m\u001b[32m, line 8\u001b[39m\n\u001b[31m    \u001b[39m\u001b[31melse num1 == num2:\u001b[39m\n         ^\n\u001b[31mSyntaxError\u001b[39m\u001b[31m:\u001b[39m expected ':'\n"
     ]
    }
   ],
   "source": [
    "# 1 - Faça um programa que peça dois números e imprima o maior deles\n",
    "num1 = int(input('Digite o primeiro numero: '))\n",
    "num2 = int(input('Digite o segundo numero: '))\n",
    "if num1 > num2:\n",
    "    print(f'O numero {num1} é o maior.')\n",
    "elif num2 > num1:\n",
    "    print(f'O numero {num2} é o maior.')\n",
    "else num1 == num2:\n",
    "    print(f\"São numeros iguais\")\n"
   ]
  }
 ],
 "metadata": {
  "kernelspec": {
   "display_name": "Python 3 (ipykernel)",
   "language": "python",
   "name": "python3"
  },
  "language_info": {
   "codemirror_mode": {
    "name": "ipython",
    "version": 3
   },
   "file_extension": ".py",
   "mimetype": "text/x-python",
   "name": "python",
   "nbconvert_exporter": "python",
   "pygments_lexer": "ipython3",
   "version": "3.13.4"
  }
 },
 "nbformat": 4,
 "nbformat_minor": 5
}
